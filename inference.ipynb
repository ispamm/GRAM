{
 "cells": [
  {
   "cell_type": "code",
   "execution_count": null,
   "metadata": {},
   "outputs": [],
   "source": [
    "from utils.utils_for_fast_inference import get_args, VisionMapper, AudioMapper, build_batch\n",
    "from utils.build_model import build_model\n",
    "from utils.volume import volume_computation3\n",
    "import warnings\n",
    "import os\n",
    "warnings.filterwarnings(\"ignore\") \n",
    "\n",
    "\n",
    "os.environ['LOCAL_RANK'] = '0'\n",
    "\n",
    "#Pass the path to the pre-trained model folder\n",
    "pretrain_dir = './gram_ckpt'\n",
    "\n",
    "args = get_args(pretrain_dir)\n",
    "\n",
    "model,_,_ = build_model(args)\n",
    "model.to('cuda')\n",
    "\n",
    "visionMapper = VisionMapper(args.data_cfg.train[0],args)\n",
    "audioMapper = AudioMapper(args.data_cfg.train[0],args)\n",
    "\n",
    "\n",
    "\n",
    "tasks = 'ret%tva'\n",
    "\n",
    "\n",
    "text = [\"A dog is barking\",\"A dog is howling\", \"A red cat is meowing\", \"A black cat is meowing\"]\n",
    "video = [\"./assets/videos/video1.mp4\",\"./assets/videos/video2.mp4\",\"assets/videos/video3.mp4\",\"./assets/videos/video4.mp4\"]\n",
    "audio = [\"./assets/audios/audio1.mp3\",\"./assets/audios/audio2.mp3\",\"./assets/audios/audio3.mp3\",\"./assets/audios/audio4.mp3\"]\n",
    "\n",
    "batch = build_batch(args,text,video,audio)\n",
    "\n",
    "\n",
    "evaluation_dict= model(batch, tasks, compute_loss=False)\n",
    "\n",
    "feat_t = evaluation_dict['feat_t']\n",
    "feat_v = evaluation_dict['feat_v']\n",
    "feat_a = evaluation_dict['feat_a']\n",
    "\n",
    "\n",
    "\n",
    "volume = volume_computation3(feat_t,feat_v,feat_a)\n",
    "\n",
    "print(\"Volume: \", volume.detach().cpu())"
   ]
  }
 ],
 "metadata": {
  "kernelspec": {
   "display_name": "seeing",
   "language": "python",
   "name": "python3"
  },
  "language_info": {
   "codemirror_mode": {
    "name": "ipython",
    "version": 3
   },
   "file_extension": ".py",
   "mimetype": "text/x-python",
   "name": "python",
   "nbconvert_exporter": "python",
   "pygments_lexer": "ipython3",
   "version": "3.10.16"
  }
 },
 "nbformat": 4,
 "nbformat_minor": 2
}
